{
  "nbformat": 4,
  "nbformat_minor": 0,
  "metadata": {
    "colab": {
      "provenance": [],
      "authorship_tag": "ABX9TyO6z8MLnT8dyy104Us3SAmr",
      "include_colab_link": true
    },
    "kernelspec": {
      "name": "python3",
      "display_name": "Python 3"
    },
    "language_info": {
      "name": "python"
    }
  },
  "cells": [
    {
      "cell_type": "markdown",
      "metadata": {
        "id": "view-in-github",
        "colab_type": "text"
      },
      "source": [
        "<a href=\"https://colab.research.google.com/github/hsabaghpour/GeoMining-DataScience/blob/main/GeoPanda_Sample1.ipynb\" target=\"_parent\"><img src=\"https://colab.research.google.com/assets/colab-badge.svg\" alt=\"Open In Colab\"/></a>"
      ]
    },
    {
      "cell_type": "code",
      "execution_count": 1,
      "metadata": {
        "colab": {
          "base_uri": "https://localhost:8080/"
        },
        "id": "TVLRGPfIizsD",
        "outputId": "53f153d3-1668-45c2-fe9f-c8b5e6f93268"
      },
      "outputs": [
        {
          "output_type": "stream",
          "name": "stdout",
          "text": [
            "        City                Coordinates\n",
            "0  Vancouver  POINT (-123.1207 49.2827)\n",
            "1    Toronto   POINT (-79.3832 43.6532)\n"
          ]
        }
      ],
      "source": [
        "import geopandas as gpd\n",
        "from shapely.geometry import Point\n",
        "\n",
        "# Create a simple GeoDataFrame with two points\n",
        "data = {\n",
        "    'City': ['Vancouver', 'Toronto'],\n",
        "    'Coordinates': [Point(-123.1207, 49.2827), Point(-79.3832, 43.6532)]\n",
        "}\n",
        "\n",
        "# Create the GeoDataFrame\n",
        "gdf = gpd.GeoDataFrame(data, geometry='Coordinates')\n",
        "\n",
        "# Show the GeoDataFrame\n",
        "print(gdf)\n"
      ]
    }
  ]
}